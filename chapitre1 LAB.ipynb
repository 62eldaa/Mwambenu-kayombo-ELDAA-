{
 "cells": [
  {
   "cell_type": "code",
   "execution_count": 1,
   "id": "f9dba1c1-ac59-40ed-96bc-5ff941ec327b",
   "metadata": {},
   "outputs": [],
   "source": [
    "import numpy as np"
   ]
  },
  {
   "cell_type": "code",
   "execution_count": 2,
   "id": "208dbec0-7ac7-47a4-b4e9-4bfabde94250",
   "metadata": {},
   "outputs": [],
   "source": [
    "tab_1D = np.array([1,2,5,3])"
   ]
  },
  {
   "cell_type": "code",
   "execution_count": 3,
   "id": "1d8b0781-4c25-48d7-b803-acd5f5b58b55",
   "metadata": {},
   "outputs": [
    {
     "name": "stdout",
     "output_type": "stream",
     "text": [
      "[1 2 5 3]\n"
     ]
    }
   ],
   "source": [
    "print(tab_1D)"
   ]
  },
  {
   "cell_type": "code",
   "execution_count": 4,
   "id": "9490b7a4-bf9d-434b-beb1-18464d155f34",
   "metadata": {},
   "outputs": [],
   "source": [
    "tab_2D = np.array([[2,3,4,5],[5,6,7,8]])"
   ]
  },
  {
   "cell_type": "code",
   "execution_count": 5,
   "id": "ada1e8d7-e715-4a0f-9f88-bd95d5b3809e",
   "metadata": {
    "scrolled": true
   },
   "outputs": [
    {
     "name": "stdout",
     "output_type": "stream",
     "text": [
      "[[2 3 4 5]\n",
      " [5 6 7 8]]\n"
     ]
    }
   ],
   "source": [
    "print(tab_2D)"
   ]
  },
  {
   "cell_type": "code",
   "execution_count": 6,
   "id": "9f86a415-574b-4e31-8c2e-6d5a1c6a85a4",
   "metadata": {},
   "outputs": [],
   "source": [
    "tab_3D = np.array([[[10,12,15,18],[20,25,30,40],[45,50,55,60]]])"
   ]
  },
  {
   "cell_type": "code",
   "execution_count": 7,
   "id": "5f9faf66-0aef-4b69-85d1-a31ea43ffe8b",
   "metadata": {},
   "outputs": [
    {
     "name": "stdout",
     "output_type": "stream",
     "text": [
      "[[[10 12 15 18]\n",
      "  [20 25 30 40]\n",
      "  [45 50 55 60]]]\n"
     ]
    }
   ],
   "source": [
    "print(tab_3D)"
   ]
  },
  {
   "cell_type": "code",
   "execution_count": 8,
   "id": "c89c3774-05b5-4094-8b05-857046f85ec3",
   "metadata": {},
   "outputs": [],
   "source": [
    "tab_4D = np.array([[[[65,70,75,80],[85,90,95,100],[110,120,130,140],[150,155,160,170]]]])"
   ]
  },
  {
   "cell_type": "code",
   "execution_count": 9,
   "id": "139b6adc-8db9-4eef-9234-94c8afe9ede0",
   "metadata": {},
   "outputs": [
    {
     "name": "stdout",
     "output_type": "stream",
     "text": [
      "[[[[ 65  70  75  80]\n",
      "   [ 85  90  95 100]\n",
      "   [110 120 130 140]\n",
      "   [150 155 160 170]]]]\n"
     ]
    }
   ],
   "source": [
    "print(tab_4D)"
   ]
  },
  {
   "cell_type": "markdown",
   "id": "4cf0fe52-b115-4994-878b-f3e42f3f53e2",
   "metadata": {},
   "source": [
    "OPERATIONS"
   ]
  },
  {
   "cell_type": "code",
   "execution_count": 10,
   "id": "f277430a-7d44-4812-a26a-9b12069d6671",
   "metadata": {},
   "outputs": [],
   "source": [
    "a = np.array([\n",
    "    [2,4,6,8],\n",
    "    [25,45,65,85],])\n",
    "b = np.array([[20,40,60,80],\n",
    "             [250,450,650,850],])"
   ]
  },
  {
   "cell_type": "code",
   "execution_count": 11,
   "id": "ee2454a8-3d3d-4beb-8031-d12629cf6a07",
   "metadata": {},
   "outputs": [
    {
     "name": "stdout",
     "output_type": "stream",
     "text": [
      "(2, 4)\n",
      "[[ 2  4  6  8]\n",
      " [25 45 65 85]]\n",
      "(2, 4)\n",
      "[[ 20  40  60  80]\n",
      " [250 450 650 850]]\n"
     ]
    }
   ],
   "source": [
    "print(a.shape)\n",
    "print(a)\n",
    "print(b.shape)\n",
    "print(b)"
   ]
  },
  {
   "cell_type": "code",
   "execution_count": 12,
   "id": "a1197d12-483e-418e-b761-1d030cecc8d3",
   "metadata": {},
   "outputs": [
    {
     "name": "stdout",
     "output_type": "stream",
     "text": [
      "[[ 22  44  66  88]\n",
      " [275 495 715 935]]\n"
     ]
    }
   ],
   "source": [
    "print(a+b)"
   ]
  },
  {
   "cell_type": "code",
   "execution_count": 13,
   "id": "5c380748-3e99-4c7b-bdea-de1e86e9ed6a",
   "metadata": {},
   "outputs": [
    {
     "name": "stdout",
     "output_type": "stream",
     "text": [
      "[[ -18  -36  -54  -72]\n",
      " [-225 -405 -585 -765]]\n"
     ]
    }
   ],
   "source": [
    "print(a-b)"
   ]
  },
  {
   "cell_type": "markdown",
   "id": "9651744f-04d6-4410-9317-5e4f3e9d0ae4",
   "metadata": {},
   "source": [
    "MANIPULATION DES DONNEES"
   ]
  },
  {
   "cell_type": "code",
   "execution_count": 14,
   "id": "06771865-84d4-4c77-8f3e-78fc2ba41ff4",
   "metadata": {},
   "outputs": [],
   "source": [
    "#Création d'un dictionnaire"
   ]
  },
  {
   "cell_type": "code",
   "execution_count": 15,
   "id": "51be1cf7-8474-42fe-aae9-32012ac44d5a",
   "metadata": {},
   "outputs": [],
   "source": [
    "Info_Etudians = {\n",
    "    'Matricule':'2018020083',\n",
    "    'Nom': 'Ngoy',\n",
    "    'Prenom': 'Packy',\n",
    "    'Age':30,\n",
    "    'GPA':'Z'\n",
    "}"
   ]
  },
  {
   "cell_type": "code",
   "execution_count": 16,
   "id": "1843fad9-6516-4bdf-80e5-562c2cf01d5c",
   "metadata": {},
   "outputs": [
    {
     "data": {
      "text/plain": [
       "{'Matricule': '2018020083',\n",
       " 'Nom': 'Ngoy',\n",
       " 'Prenom': 'Packy',\n",
       " 'Age': 30,\n",
       " 'GPA': 'Z'}"
      ]
     },
     "execution_count": 16,
     "metadata": {},
     "output_type": "execute_result"
    }
   ],
   "source": [
    "Info_Etudians"
   ]
  },
  {
   "cell_type": "code",
   "execution_count": 17,
   "id": "dcbf5717-2e16-41b6-bb4f-b265379f7c5d",
   "metadata": {},
   "outputs": [
    {
     "name": "stdout",
     "output_type": "stream",
     "text": [
      "{'Matricule': '2018020083', 'Nom': 'Ngoy', 'Prenom': 'Packy', 'Age': 30, 'GPA': 'Z'}\n"
     ]
    }
   ],
   "source": [
    "print(Info_Etudians)"
   ]
  },
  {
   "cell_type": "code",
   "execution_count": 18,
   "id": "0076ac1e-03a8-4b56-958e-2f77469c28d1",
   "metadata": {},
   "outputs": [],
   "source": [
    "Infos_tous_les_etudiants_BAC_GL_IA = {\n",
    "    'Matricule':['2018020081','2018020082','2018020083','2018020084','2018020085'],\n",
    "    'Nom':['kasongo', 'Mwana','Bute','Kongolo','Mwanba'],\n",
    "    'Prenom':['junior','Emma','Packy','Daniel','Jenny'],\n",
    "    'Age':[25,21,30,20,18],\n",
    "    'GPA':['B','B','F','A','B']\n",
    "}"
   ]
  },
  {
   "cell_type": "code",
   "execution_count": 19,
   "id": "6f10bd3f-0ea9-4bd1-815c-5c715154a67d",
   "metadata": {},
   "outputs": [
    {
     "data": {
      "text/plain": [
       "{'Matricule': ['2018020081',\n",
       "  '2018020082',\n",
       "  '2018020083',\n",
       "  '2018020084',\n",
       "  '2018020085'],\n",
       " 'Nom': ['kasongo', 'Mwana', 'Bute', 'Kongolo', 'Mwanba'],\n",
       " 'Prenom': ['junior', 'Emma', 'Packy', 'Daniel', 'Jenny'],\n",
       " 'Age': [25, 21, 30, 20, 18],\n",
       " 'GPA': ['B', 'B', 'F', 'A', 'B']}"
      ]
     },
     "execution_count": 19,
     "metadata": {},
     "output_type": "execute_result"
    }
   ],
   "source": [
    "Infos_tous_les_etudiants_BAC_GL_IA"
   ]
  },
  {
   "cell_type": "code",
   "execution_count": 20,
   "id": "4960d53d-ecae-4109-b61b-879b76f5b22c",
   "metadata": {},
   "outputs": [
    {
     "name": "stdout",
     "output_type": "stream",
     "text": [
      "{'Matricule': ['2018020081', '2018020082', '2018020083', '2018020084', '2018020085'], 'Nom': ['kasongo', 'Mwana', 'Bute', 'Kongolo', 'Mwanba'], 'Prenom': ['junior', 'Emma', 'Packy', 'Daniel', 'Jenny'], 'Age': [25, 21, 30, 20, 18], 'GPA': ['B', 'B', 'F', 'A', 'B']}\n"
     ]
    }
   ],
   "source": [
    "print(Infos_tous_les_etudiants_BAC_GL_IA)"
   ]
  },
  {
   "cell_type": "code",
   "execution_count": null,
   "id": "a632f778-2554-403d-a988-5bbf34b350e2",
   "metadata": {},
   "outputs": [],
   "source": []
  },
  {
   "cell_type": "code",
   "execution_count": 21,
   "id": "a313fe79-9aa6-40cb-8df8-7ceb3c9a4957",
   "metadata": {},
   "outputs": [],
   "source": [
    "#importer pandas"
   ]
  },
  {
   "cell_type": "code",
   "execution_count": 22,
   "id": "26a1dbab-22c4-4338-a828-de1b5beb7fb0",
   "metadata": {},
   "outputs": [],
   "source": [
    "import pandas as pd"
   ]
  },
  {
   "cell_type": "code",
   "execution_count": 23,
   "id": "c0dad9dd-45be-438c-9aca-e17fdab9b607",
   "metadata": {},
   "outputs": [],
   "source": [
    "donnes_etudiants = pd.DataFrame(Infos_tous_les_etudiants_BAC_GL_IA)"
   ]
  },
  {
   "cell_type": "code",
   "execution_count": 24,
   "id": "ff36f0d7-ca71-4c11-b88b-012331854f48",
   "metadata": {},
   "outputs": [
    {
     "data": {
      "text/html": [
       "<div>\n",
       "<style scoped>\n",
       "    .dataframe tbody tr th:only-of-type {\n",
       "        vertical-align: middle;\n",
       "    }\n",
       "\n",
       "    .dataframe tbody tr th {\n",
       "        vertical-align: top;\n",
       "    }\n",
       "\n",
       "    .dataframe thead th {\n",
       "        text-align: right;\n",
       "    }\n",
       "</style>\n",
       "<table border=\"1\" class=\"dataframe\">\n",
       "  <thead>\n",
       "    <tr style=\"text-align: right;\">\n",
       "      <th></th>\n",
       "      <th>Matricule</th>\n",
       "      <th>Nom</th>\n",
       "      <th>Prenom</th>\n",
       "      <th>Age</th>\n",
       "      <th>GPA</th>\n",
       "    </tr>\n",
       "  </thead>\n",
       "  <tbody>\n",
       "    <tr>\n",
       "      <th>0</th>\n",
       "      <td>2018020081</td>\n",
       "      <td>kasongo</td>\n",
       "      <td>junior</td>\n",
       "      <td>25</td>\n",
       "      <td>B</td>\n",
       "    </tr>\n",
       "    <tr>\n",
       "      <th>1</th>\n",
       "      <td>2018020082</td>\n",
       "      <td>Mwana</td>\n",
       "      <td>Emma</td>\n",
       "      <td>21</td>\n",
       "      <td>B</td>\n",
       "    </tr>\n",
       "    <tr>\n",
       "      <th>2</th>\n",
       "      <td>2018020083</td>\n",
       "      <td>Bute</td>\n",
       "      <td>Packy</td>\n",
       "      <td>30</td>\n",
       "      <td>F</td>\n",
       "    </tr>\n",
       "    <tr>\n",
       "      <th>3</th>\n",
       "      <td>2018020084</td>\n",
       "      <td>Kongolo</td>\n",
       "      <td>Daniel</td>\n",
       "      <td>20</td>\n",
       "      <td>A</td>\n",
       "    </tr>\n",
       "    <tr>\n",
       "      <th>4</th>\n",
       "      <td>2018020085</td>\n",
       "      <td>Mwanba</td>\n",
       "      <td>Jenny</td>\n",
       "      <td>18</td>\n",
       "      <td>B</td>\n",
       "    </tr>\n",
       "  </tbody>\n",
       "</table>\n",
       "</div>"
      ],
      "text/plain": [
       "    Matricule      Nom  Prenom  Age GPA\n",
       "0  2018020081  kasongo  junior   25   B\n",
       "1  2018020082    Mwana    Emma   21   B\n",
       "2  2018020083     Bute   Packy   30   F\n",
       "3  2018020084  Kongolo  Daniel   20   A\n",
       "4  2018020085   Mwanba   Jenny   18   B"
      ]
     },
     "execution_count": 24,
     "metadata": {},
     "output_type": "execute_result"
    }
   ],
   "source": [
    "donnes_etudiants"
   ]
  },
  {
   "cell_type": "code",
   "execution_count": 25,
   "id": "ddeaa9cf-cf9a-4b7f-8846-777fc11d1837",
   "metadata": {},
   "outputs": [
    {
     "data": {
      "text/html": [
       "<div>\n",
       "<style scoped>\n",
       "    .dataframe tbody tr th:only-of-type {\n",
       "        vertical-align: middle;\n",
       "    }\n",
       "\n",
       "    .dataframe tbody tr th {\n",
       "        vertical-align: top;\n",
       "    }\n",
       "\n",
       "    .dataframe thead th {\n",
       "        text-align: right;\n",
       "    }\n",
       "</style>\n",
       "<table border=\"1\" class=\"dataframe\">\n",
       "  <thead>\n",
       "    <tr style=\"text-align: right;\">\n",
       "      <th></th>\n",
       "      <th>Matricule</th>\n",
       "      <th>Nom</th>\n",
       "      <th>Prenom</th>\n",
       "      <th>Age</th>\n",
       "      <th>GPA</th>\n",
       "    </tr>\n",
       "  </thead>\n",
       "  <tbody>\n",
       "    <tr>\n",
       "      <th>2</th>\n",
       "      <td>2018020083</td>\n",
       "      <td>Bute</td>\n",
       "      <td>Packy</td>\n",
       "      <td>30</td>\n",
       "      <td>F</td>\n",
       "    </tr>\n",
       "  </tbody>\n",
       "</table>\n",
       "</div>"
      ],
      "text/plain": [
       "    Matricule   Nom Prenom  Age GPA\n",
       "2  2018020083  Bute  Packy   30   F"
      ]
     },
     "execution_count": 25,
     "metadata": {},
     "output_type": "execute_result"
    }
   ],
   "source": [
    "donnes_etudiants.iloc[2:3,:]"
   ]
  },
  {
   "cell_type": "code",
   "execution_count": 26,
   "id": "dfe526a2-2b27-4853-b719-ba58e454cf02",
   "metadata": {},
   "outputs": [
    {
     "data": {
      "text/html": [
       "<div>\n",
       "<style scoped>\n",
       "    .dataframe tbody tr th:only-of-type {\n",
       "        vertical-align: middle;\n",
       "    }\n",
       "\n",
       "    .dataframe tbody tr th {\n",
       "        vertical-align: top;\n",
       "    }\n",
       "\n",
       "    .dataframe thead th {\n",
       "        text-align: right;\n",
       "    }\n",
       "</style>\n",
       "<table border=\"1\" class=\"dataframe\">\n",
       "  <thead>\n",
       "    <tr style=\"text-align: right;\">\n",
       "      <th></th>\n",
       "    </tr>\n",
       "  </thead>\n",
       "  <tbody>\n",
       "  </tbody>\n",
       "</table>\n",
       "</div>"
      ],
      "text/plain": [
       "Empty DataFrame\n",
       "Columns: []\n",
       "Index: []"
      ]
     },
     "execution_count": 26,
     "metadata": {},
     "output_type": "execute_result"
    }
   ],
   "source": [
    "donnes_etudiants.iloc[2:2,2:2]"
   ]
  },
  {
   "cell_type": "code",
   "execution_count": 27,
   "id": "95adbf9f-506b-4815-ac26-860a929779d1",
   "metadata": {},
   "outputs": [
    {
     "data": {
      "text/html": [
       "<div>\n",
       "<style scoped>\n",
       "    .dataframe tbody tr th:only-of-type {\n",
       "        vertical-align: middle;\n",
       "    }\n",
       "\n",
       "    .dataframe tbody tr th {\n",
       "        vertical-align: top;\n",
       "    }\n",
       "\n",
       "    .dataframe thead th {\n",
       "        text-align: right;\n",
       "    }\n",
       "</style>\n",
       "<table border=\"1\" class=\"dataframe\">\n",
       "  <thead>\n",
       "    <tr style=\"text-align: right;\">\n",
       "      <th></th>\n",
       "      <th>Nom</th>\n",
       "      <th>Prenom</th>\n",
       "      <th>Age</th>\n",
       "      <th>GPA</th>\n",
       "    </tr>\n",
       "  </thead>\n",
       "  <tbody>\n",
       "    <tr>\n",
       "      <th>1</th>\n",
       "      <td>Mwana</td>\n",
       "      <td>Emma</td>\n",
       "      <td>21</td>\n",
       "      <td>B</td>\n",
       "    </tr>\n",
       "    <tr>\n",
       "      <th>2</th>\n",
       "      <td>Bute</td>\n",
       "      <td>Packy</td>\n",
       "      <td>30</td>\n",
       "      <td>F</td>\n",
       "    </tr>\n",
       "  </tbody>\n",
       "</table>\n",
       "</div>"
      ],
      "text/plain": [
       "     Nom Prenom  Age GPA\n",
       "1  Mwana   Emma   21   B\n",
       "2   Bute  Packy   30   F"
      ]
     },
     "execution_count": 27,
     "metadata": {},
     "output_type": "execute_result"
    }
   ],
   "source": [
    "donnes_etudiants.iloc[1:3,1:]"
   ]
  },
  {
   "cell_type": "code",
   "execution_count": 28,
   "id": "e3af8b0b-6042-4f5a-99c8-b7f56215639e",
   "metadata": {},
   "outputs": [],
   "source": [
    "#ajouter colonnes"
   ]
  },
  {
   "cell_type": "code",
   "execution_count": 29,
   "id": "af3b2dfc-eefb-4016-8a1e-d893ec1039eb",
   "metadata": {},
   "outputs": [],
   "source": [
    "donnes_etudiants['Genre']=['M','M','M','M','M']\n",
    "donnes_etudiants['Pourcentage']=[58,60,65,62,61]"
   ]
  },
  {
   "cell_type": "code",
   "execution_count": 30,
   "id": "4d2a4ae4-eaa1-47a0-bb8a-e31ccd8efc1d",
   "metadata": {},
   "outputs": [
    {
     "data": {
      "text/html": [
       "<div>\n",
       "<style scoped>\n",
       "    .dataframe tbody tr th:only-of-type {\n",
       "        vertical-align: middle;\n",
       "    }\n",
       "\n",
       "    .dataframe tbody tr th {\n",
       "        vertical-align: top;\n",
       "    }\n",
       "\n",
       "    .dataframe thead th {\n",
       "        text-align: right;\n",
       "    }\n",
       "</style>\n",
       "<table border=\"1\" class=\"dataframe\">\n",
       "  <thead>\n",
       "    <tr style=\"text-align: right;\">\n",
       "      <th></th>\n",
       "      <th>Matricule</th>\n",
       "      <th>Nom</th>\n",
       "      <th>Prenom</th>\n",
       "      <th>Age</th>\n",
       "      <th>GPA</th>\n",
       "      <th>Genre</th>\n",
       "      <th>Pourcentage</th>\n",
       "    </tr>\n",
       "  </thead>\n",
       "  <tbody>\n",
       "    <tr>\n",
       "      <th>0</th>\n",
       "      <td>2018020081</td>\n",
       "      <td>kasongo</td>\n",
       "      <td>junior</td>\n",
       "      <td>25</td>\n",
       "      <td>B</td>\n",
       "      <td>M</td>\n",
       "      <td>58</td>\n",
       "    </tr>\n",
       "    <tr>\n",
       "      <th>1</th>\n",
       "      <td>2018020082</td>\n",
       "      <td>Mwana</td>\n",
       "      <td>Emma</td>\n",
       "      <td>21</td>\n",
       "      <td>B</td>\n",
       "      <td>M</td>\n",
       "      <td>60</td>\n",
       "    </tr>\n",
       "    <tr>\n",
       "      <th>2</th>\n",
       "      <td>2018020083</td>\n",
       "      <td>Bute</td>\n",
       "      <td>Packy</td>\n",
       "      <td>30</td>\n",
       "      <td>F</td>\n",
       "      <td>M</td>\n",
       "      <td>65</td>\n",
       "    </tr>\n",
       "    <tr>\n",
       "      <th>3</th>\n",
       "      <td>2018020084</td>\n",
       "      <td>Kongolo</td>\n",
       "      <td>Daniel</td>\n",
       "      <td>20</td>\n",
       "      <td>A</td>\n",
       "      <td>M</td>\n",
       "      <td>62</td>\n",
       "    </tr>\n",
       "    <tr>\n",
       "      <th>4</th>\n",
       "      <td>2018020085</td>\n",
       "      <td>Mwanba</td>\n",
       "      <td>Jenny</td>\n",
       "      <td>18</td>\n",
       "      <td>B</td>\n",
       "      <td>M</td>\n",
       "      <td>61</td>\n",
       "    </tr>\n",
       "  </tbody>\n",
       "</table>\n",
       "</div>"
      ],
      "text/plain": [
       "    Matricule      Nom  Prenom  Age GPA Genre  Pourcentage\n",
       "0  2018020081  kasongo  junior   25   B     M           58\n",
       "1  2018020082    Mwana    Emma   21   B     M           60\n",
       "2  2018020083     Bute   Packy   30   F     M           65\n",
       "3  2018020084  Kongolo  Daniel   20   A     M           62\n",
       "4  2018020085   Mwanba   Jenny   18   B     M           61"
      ]
     },
     "execution_count": 30,
     "metadata": {},
     "output_type": "execute_result"
    }
   ],
   "source": [
    "donnes_etudiants"
   ]
  },
  {
   "cell_type": "code",
   "execution_count": 31,
   "id": "6b1119d2-e469-4294-915e-316e2ce7bbec",
   "metadata": {},
   "outputs": [],
   "source": [
    "#supprimer colonne"
   ]
  },
  {
   "cell_type": "code",
   "execution_count": 32,
   "id": "39f9ea3c-d461-461b-8015-5c05e6a15c4b",
   "metadata": {},
   "outputs": [],
   "source": [
    "donnes_etudiants.drop(columns='GPA', inplace=True, axis=1)"
   ]
  },
  {
   "cell_type": "code",
   "execution_count": 33,
   "id": "98218922-d61d-496f-a0f3-170b162f8dfb",
   "metadata": {},
   "outputs": [
    {
     "data": {
      "text/html": [
       "<div>\n",
       "<style scoped>\n",
       "    .dataframe tbody tr th:only-of-type {\n",
       "        vertical-align: middle;\n",
       "    }\n",
       "\n",
       "    .dataframe tbody tr th {\n",
       "        vertical-align: top;\n",
       "    }\n",
       "\n",
       "    .dataframe thead th {\n",
       "        text-align: right;\n",
       "    }\n",
       "</style>\n",
       "<table border=\"1\" class=\"dataframe\">\n",
       "  <thead>\n",
       "    <tr style=\"text-align: right;\">\n",
       "      <th></th>\n",
       "      <th>Matricule</th>\n",
       "      <th>Nom</th>\n",
       "      <th>Prenom</th>\n",
       "      <th>Age</th>\n",
       "      <th>Genre</th>\n",
       "      <th>Pourcentage</th>\n",
       "    </tr>\n",
       "  </thead>\n",
       "  <tbody>\n",
       "    <tr>\n",
       "      <th>0</th>\n",
       "      <td>2018020081</td>\n",
       "      <td>kasongo</td>\n",
       "      <td>junior</td>\n",
       "      <td>25</td>\n",
       "      <td>M</td>\n",
       "      <td>58</td>\n",
       "    </tr>\n",
       "    <tr>\n",
       "      <th>1</th>\n",
       "      <td>2018020082</td>\n",
       "      <td>Mwana</td>\n",
       "      <td>Emma</td>\n",
       "      <td>21</td>\n",
       "      <td>M</td>\n",
       "      <td>60</td>\n",
       "    </tr>\n",
       "    <tr>\n",
       "      <th>2</th>\n",
       "      <td>2018020083</td>\n",
       "      <td>Bute</td>\n",
       "      <td>Packy</td>\n",
       "      <td>30</td>\n",
       "      <td>M</td>\n",
       "      <td>65</td>\n",
       "    </tr>\n",
       "    <tr>\n",
       "      <th>3</th>\n",
       "      <td>2018020084</td>\n",
       "      <td>Kongolo</td>\n",
       "      <td>Daniel</td>\n",
       "      <td>20</td>\n",
       "      <td>M</td>\n",
       "      <td>62</td>\n",
       "    </tr>\n",
       "    <tr>\n",
       "      <th>4</th>\n",
       "      <td>2018020085</td>\n",
       "      <td>Mwanba</td>\n",
       "      <td>Jenny</td>\n",
       "      <td>18</td>\n",
       "      <td>M</td>\n",
       "      <td>61</td>\n",
       "    </tr>\n",
       "  </tbody>\n",
       "</table>\n",
       "</div>"
      ],
      "text/plain": [
       "    Matricule      Nom  Prenom  Age Genre  Pourcentage\n",
       "0  2018020081  kasongo  junior   25     M           58\n",
       "1  2018020082    Mwana    Emma   21     M           60\n",
       "2  2018020083     Bute   Packy   30     M           65\n",
       "3  2018020084  Kongolo  Daniel   20     M           62\n",
       "4  2018020085   Mwanba   Jenny   18     M           61"
      ]
     },
     "execution_count": 33,
     "metadata": {},
     "output_type": "execute_result"
    }
   ],
   "source": [
    "donnes_etudiants"
   ]
  },
  {
   "cell_type": "code",
   "execution_count": 34,
   "id": "d43b85c1-2db8-40a5-86cb-0ea65c2b9d4e",
   "metadata": {},
   "outputs": [],
   "source": [
    "#convertir la colonne genre M=1 et F=0\n",
    "#mapping colonne genre"
   ]
  },
  {
   "cell_type": "code",
   "execution_count": 35,
   "id": "cf62ddcd-76a2-408c-a533-9ff4ca1a3948",
   "metadata": {},
   "outputs": [
    {
     "data": {
      "text/plain": [
       "0    1\n",
       "1    1\n",
       "2    1\n",
       "3    1\n",
       "4    1\n",
       "Name: Genre, dtype: int64"
      ]
     },
     "execution_count": 35,
     "metadata": {},
     "output_type": "execute_result"
    }
   ],
   "source": [
    "Mapping_Genre ={\n",
    "    'M':1,\n",
    "    'F':0,\n",
    "}\n",
    "donnes_etudiants['Genre'].map(Mapping_Genre)"
   ]
  },
  {
   "cell_type": "code",
   "execution_count": 36,
   "id": "c1c0762c-d1aa-4eb3-9524-8b2da481f03b",
   "metadata": {},
   "outputs": [
    {
     "data": {
      "text/html": [
       "<div>\n",
       "<style scoped>\n",
       "    .dataframe tbody tr th:only-of-type {\n",
       "        vertical-align: middle;\n",
       "    }\n",
       "\n",
       "    .dataframe tbody tr th {\n",
       "        vertical-align: top;\n",
       "    }\n",
       "\n",
       "    .dataframe thead th {\n",
       "        text-align: right;\n",
       "    }\n",
       "</style>\n",
       "<table border=\"1\" class=\"dataframe\">\n",
       "  <thead>\n",
       "    <tr style=\"text-align: right;\">\n",
       "      <th></th>\n",
       "      <th>Matricule</th>\n",
       "      <th>Nom</th>\n",
       "      <th>Prenom</th>\n",
       "      <th>Age</th>\n",
       "      <th>Genre</th>\n",
       "      <th>Pourcentage</th>\n",
       "    </tr>\n",
       "  </thead>\n",
       "  <tbody>\n",
       "    <tr>\n",
       "      <th>0</th>\n",
       "      <td>2018020081</td>\n",
       "      <td>kasongo</td>\n",
       "      <td>junior</td>\n",
       "      <td>25</td>\n",
       "      <td>M</td>\n",
       "      <td>58</td>\n",
       "    </tr>\n",
       "    <tr>\n",
       "      <th>1</th>\n",
       "      <td>2018020082</td>\n",
       "      <td>Mwana</td>\n",
       "      <td>Emma</td>\n",
       "      <td>21</td>\n",
       "      <td>M</td>\n",
       "      <td>60</td>\n",
       "    </tr>\n",
       "    <tr>\n",
       "      <th>2</th>\n",
       "      <td>2018020083</td>\n",
       "      <td>Bute</td>\n",
       "      <td>Packy</td>\n",
       "      <td>30</td>\n",
       "      <td>M</td>\n",
       "      <td>65</td>\n",
       "    </tr>\n",
       "    <tr>\n",
       "      <th>3</th>\n",
       "      <td>2018020084</td>\n",
       "      <td>Kongolo</td>\n",
       "      <td>Daniel</td>\n",
       "      <td>20</td>\n",
       "      <td>M</td>\n",
       "      <td>62</td>\n",
       "    </tr>\n",
       "    <tr>\n",
       "      <th>4</th>\n",
       "      <td>2018020085</td>\n",
       "      <td>Mwanba</td>\n",
       "      <td>Jenny</td>\n",
       "      <td>18</td>\n",
       "      <td>M</td>\n",
       "      <td>61</td>\n",
       "    </tr>\n",
       "  </tbody>\n",
       "</table>\n",
       "</div>"
      ],
      "text/plain": [
       "    Matricule      Nom  Prenom  Age Genre  Pourcentage\n",
       "0  2018020081  kasongo  junior   25     M           58\n",
       "1  2018020082    Mwana    Emma   21     M           60\n",
       "2  2018020083     Bute   Packy   30     M           65\n",
       "3  2018020084  Kongolo  Daniel   20     M           62\n",
       "4  2018020085   Mwanba   Jenny   18     M           61"
      ]
     },
     "execution_count": 36,
     "metadata": {},
     "output_type": "execute_result"
    }
   ],
   "source": [
    "donnes_etudiants"
   ]
  },
  {
   "cell_type": "code",
   "execution_count": 37,
   "id": "85127a86-a85c-407d-8cdc-353754fa824a",
   "metadata": {},
   "outputs": [],
   "source": [
    "Mapping_Genre ={\n",
    "    'M':1,\n",
    "    'F':0,\n",
    "}"
   ]
  },
  {
   "cell_type": "code",
   "execution_count": 38,
   "id": "14d3f3e6-199e-45b8-9f1b-0fa03cfc6e1d",
   "metadata": {},
   "outputs": [
    {
     "data": {
      "text/plain": [
       "0    1\n",
       "1    1\n",
       "2    1\n",
       "3    1\n",
       "4    1\n",
       "Name: Genre, dtype: int64"
      ]
     },
     "execution_count": 38,
     "metadata": {},
     "output_type": "execute_result"
    }
   ],
   "source": [
    "donnes_etudiants['Genre'].map(Mapping_Genre)"
   ]
  },
  {
   "cell_type": "code",
   "execution_count": 39,
   "id": "5da82f30-64b4-4602-9e88-5003344205fa",
   "metadata": {},
   "outputs": [
    {
     "data": {
      "text/html": [
       "<div>\n",
       "<style scoped>\n",
       "    .dataframe tbody tr th:only-of-type {\n",
       "        vertical-align: middle;\n",
       "    }\n",
       "\n",
       "    .dataframe tbody tr th {\n",
       "        vertical-align: top;\n",
       "    }\n",
       "\n",
       "    .dataframe thead th {\n",
       "        text-align: right;\n",
       "    }\n",
       "</style>\n",
       "<table border=\"1\" class=\"dataframe\">\n",
       "  <thead>\n",
       "    <tr style=\"text-align: right;\">\n",
       "      <th></th>\n",
       "      <th>Matricule</th>\n",
       "      <th>Nom</th>\n",
       "      <th>Prenom</th>\n",
       "      <th>Age</th>\n",
       "      <th>Genre</th>\n",
       "      <th>Pourcentage</th>\n",
       "    </tr>\n",
       "  </thead>\n",
       "  <tbody>\n",
       "    <tr>\n",
       "      <th>0</th>\n",
       "      <td>2018020081</td>\n",
       "      <td>kasongo</td>\n",
       "      <td>junior</td>\n",
       "      <td>25</td>\n",
       "      <td>M</td>\n",
       "      <td>58</td>\n",
       "    </tr>\n",
       "    <tr>\n",
       "      <th>1</th>\n",
       "      <td>2018020082</td>\n",
       "      <td>Mwana</td>\n",
       "      <td>Emma</td>\n",
       "      <td>21</td>\n",
       "      <td>M</td>\n",
       "      <td>60</td>\n",
       "    </tr>\n",
       "    <tr>\n",
       "      <th>2</th>\n",
       "      <td>2018020083</td>\n",
       "      <td>Bute</td>\n",
       "      <td>Packy</td>\n",
       "      <td>30</td>\n",
       "      <td>M</td>\n",
       "      <td>65</td>\n",
       "    </tr>\n",
       "    <tr>\n",
       "      <th>3</th>\n",
       "      <td>2018020084</td>\n",
       "      <td>Kongolo</td>\n",
       "      <td>Daniel</td>\n",
       "      <td>20</td>\n",
       "      <td>M</td>\n",
       "      <td>62</td>\n",
       "    </tr>\n",
       "    <tr>\n",
       "      <th>4</th>\n",
       "      <td>2018020085</td>\n",
       "      <td>Mwanba</td>\n",
       "      <td>Jenny</td>\n",
       "      <td>18</td>\n",
       "      <td>M</td>\n",
       "      <td>61</td>\n",
       "    </tr>\n",
       "  </tbody>\n",
       "</table>\n",
       "</div>"
      ],
      "text/plain": [
       "    Matricule      Nom  Prenom  Age Genre  Pourcentage\n",
       "0  2018020081  kasongo  junior   25     M           58\n",
       "1  2018020082    Mwana    Emma   21     M           60\n",
       "2  2018020083     Bute   Packy   30     M           65\n",
       "3  2018020084  Kongolo  Daniel   20     M           62\n",
       "4  2018020085   Mwanba   Jenny   18     M           61"
      ]
     },
     "execution_count": 39,
     "metadata": {},
     "output_type": "execute_result"
    }
   ],
   "source": [
    "donnes_etudiants"
   ]
  },
  {
   "cell_type": "code",
   "execution_count": 40,
   "id": "a01d182e-810a-446f-8fa8-3872ccb9a9c6",
   "metadata": {},
   "outputs": [
    {
     "name": "stdout",
     "output_type": "stream",
     "text": [
      "<class 'pandas.core.frame.DataFrame'>\n",
      "RangeIndex: 5 entries, 0 to 4\n",
      "Data columns (total 6 columns):\n",
      " #   Column       Non-Null Count  Dtype \n",
      "---  ------       --------------  ----- \n",
      " 0   Matricule    5 non-null      object\n",
      " 1   Nom          5 non-null      object\n",
      " 2   Prenom       5 non-null      object\n",
      " 3   Age          5 non-null      int64 \n",
      " 4   Genre        5 non-null      object\n",
      " 5   Pourcentage  5 non-null      int64 \n",
      "dtypes: int64(2), object(4)\n",
      "memory usage: 372.0+ bytes\n"
     ]
    }
   ],
   "source": [
    "donnes_etudiants.info()"
   ]
  },
  {
   "cell_type": "markdown",
   "id": "be2aa3aa-bca1-4dbe-8c6e-f9f8c930f2a8",
   "metadata": {},
   "source": [
    "VISUALISATION DES DONNEES"
   ]
  },
  {
   "cell_type": "code",
   "execution_count": 41,
   "id": "0d73b1e4-6bb0-4490-a78e-134810d1c0bd",
   "metadata": {},
   "outputs": [],
   "source": [
    "#CREATION DES DONNEES"
   ]
  },
  {
   "cell_type": "code",
   "execution_count": 42,
   "id": "01b84bea-21b7-46f6-a537-c30b830ff195",
   "metadata": {},
   "outputs": [],
   "source": [
    "x = np.linspace(0,2,50)"
   ]
  },
  {
   "cell_type": "code",
   "execution_count": 43,
   "id": "7e5c681a-f919-42b5-9b4a-ac098c6483cf",
   "metadata": {},
   "outputs": [
    {
     "data": {
      "text/plain": [
       "array([0.        , 0.04081633, 0.08163265, 0.12244898, 0.16326531,\n",
       "       0.20408163, 0.24489796, 0.28571429, 0.32653061, 0.36734694,\n",
       "       0.40816327, 0.44897959, 0.48979592, 0.53061224, 0.57142857,\n",
       "       0.6122449 , 0.65306122, 0.69387755, 0.73469388, 0.7755102 ,\n",
       "       0.81632653, 0.85714286, 0.89795918, 0.93877551, 0.97959184,\n",
       "       1.02040816, 1.06122449, 1.10204082, 1.14285714, 1.18367347,\n",
       "       1.2244898 , 1.26530612, 1.30612245, 1.34693878, 1.3877551 ,\n",
       "       1.42857143, 1.46938776, 1.51020408, 1.55102041, 1.59183673,\n",
       "       1.63265306, 1.67346939, 1.71428571, 1.75510204, 1.79591837,\n",
       "       1.83673469, 1.87755102, 1.91836735, 1.95918367, 2.        ])"
      ]
     },
     "execution_count": 43,
     "metadata": {},
     "output_type": "execute_result"
    }
   ],
   "source": [
    "x"
   ]
  },
  {
   "cell_type": "code",
   "execution_count": 44,
   "id": "c0df295d-40ee-4eef-bf0c-4c65eff85bd5",
   "metadata": {},
   "outputs": [],
   "source": [
    "#importer MATPLOTLIB"
   ]
  },
  {
   "cell_type": "code",
   "execution_count": 45,
   "id": "f301ff3e-c219-4392-bf15-423960983bfc",
   "metadata": {},
   "outputs": [],
   "source": [
    "import matplotlib.pyplot as plt"
   ]
  },
  {
   "cell_type": "code",
   "execution_count": 46,
   "id": "7a923b68-698d-4a84-b6d8-18b41085e305",
   "metadata": {},
   "outputs": [
    {
     "data": {
      "text/plain": [
       "<matplotlib.legend.Legend at 0x16ac1035d30>"
      ]
     },
     "execution_count": 46,
     "metadata": {},
     "output_type": "execute_result"
    },
    {
     "data": {
      "image/png": "[encoded data removed]",
      "text/plain": [
       "<Figure size 600x400 with 1 Axes>"
      ]
     },
     "metadata": {},
     "output_type": "display_data"
    }
   ],
   "source": [
    "fig, ax = plt.subplots(figsize=(6,4))\n",
    "ax.plot(x,x*2, label='Double')\n",
    "ax.plot(x,x**2, label='Carre de X')\n",
    "ax.set_xlabel('Données de x')\n",
    "ax.set_ylabel('Données de y')\n",
    "plt.title('Données de linspace entre 0 et 2')\n",
    "ax.legend()"
   ]
  },
  {
   "cell_type": "code",
   "execution_count": null,
   "id": "5b9fef46-a536-4feb-ab8c-8d970cbc4e85",
   "metadata": {},
   "outputs": [],
   "source": []
  },
  {
   "cell_type": "code",
   "execution_count": 47,
   "id": "9748354c-264f-407d-a5bd-93d71682fffb",
   "metadata": {},
   "outputs": [],
   "source": [
    "#importer seaborn"
   ]
  },
  {
   "cell_type": "code",
   "execution_count": 48,
   "id": "1fde3529-3d53-4aab-9819-85e3a8e0d53f",
   "metadata": {},
   "outputs": [],
   "source": [
    "import seaborn as sns"
   ]
  },
  {
   "cell_type": "code",
   "execution_count": 49,
   "id": "867e1f7f-90c1-4d2c-bff9-046c22754410",
   "metadata": {},
   "outputs": [],
   "source": [
    "iris_data = sns.load_dataset('iris')"
   ]
  },
  {
   "cell_type": "code",
   "execution_count": 50,
   "id": "f5c319e8-14c0-4904-af72-fc2433516304",
   "metadata": {},
   "outputs": [
    {
     "data": {
      "text/html": [
       "<div>\n",
       "<style scoped>\n",
       "    .dataframe tbody tr th:only-of-type {\n",
       "        vertical-align: middle;\n",
       "    }\n",
       "\n",
       "    .dataframe tbody tr th {\n",
       "        vertical-align: top;\n",
       "    }\n",
       "\n",
       "    .dataframe thead th {\n",
       "        text-align: right;\n",
       "    }\n",
       "</style>\n",
       "<table border=\"1\" class=\"dataframe\">\n",
       "  <thead>\n",
       "    <tr style=\"text-align: right;\">\n",
       "      <th></th>\n",
       "      <th>sepal_length</th>\n",
       "      <th>sepal_width</th>\n",
       "      <th>petal_length</th>\n",
       "      <th>petal_width</th>\n",
       "      <th>species</th>\n",
       "    </tr>\n",
       "  </thead>\n",
       "  <tbody>\n",
       "    <tr>\n",
       "      <th>0</th>\n",
       "      <td>5.1</td>\n",
       "      <td>3.5</td>\n",
       "      <td>1.4</td>\n",
       "      <td>0.2</td>\n",
       "      <td>setosa</td>\n",
       "    </tr>\n",
       "    <tr>\n",
       "      <th>1</th>\n",
       "      <td>4.9</td>\n",
       "      <td>3.0</td>\n",
       "      <td>1.4</td>\n",
       "      <td>0.2</td>\n",
       "      <td>setosa</td>\n",
       "    </tr>\n",
       "    <tr>\n",
       "      <th>2</th>\n",
       "      <td>4.7</td>\n",
       "      <td>3.2</td>\n",
       "      <td>1.3</td>\n",
       "      <td>0.2</td>\n",
       "      <td>setosa</td>\n",
       "    </tr>\n",
       "    <tr>\n",
       "      <th>3</th>\n",
       "      <td>4.6</td>\n",
       "      <td>3.1</td>\n",
       "      <td>1.5</td>\n",
       "      <td>0.2</td>\n",
       "      <td>setosa</td>\n",
       "    </tr>\n",
       "    <tr>\n",
       "      <th>4</th>\n",
       "      <td>5.0</td>\n",
       "      <td>3.6</td>\n",
       "      <td>1.4</td>\n",
       "      <td>0.2</td>\n",
       "      <td>setosa</td>\n",
       "    </tr>\n",
       "    <tr>\n",
       "      <th>...</th>\n",
       "      <td>...</td>\n",
       "      <td>...</td>\n",
       "      <td>...</td>\n",
       "      <td>...</td>\n",
       "      <td>...</td>\n",
       "    </tr>\n",
       "    <tr>\n",
       "      <th>145</th>\n",
       "      <td>6.7</td>\n",
       "      <td>3.0</td>\n",
       "      <td>5.2</td>\n",
       "      <td>2.3</td>\n",
       "      <td>virginica</td>\n",
       "    </tr>\n",
       "    <tr>\n",
       "      <th>146</th>\n",
       "      <td>6.3</td>\n",
       "      <td>2.5</td>\n",
       "      <td>5.0</td>\n",
       "      <td>1.9</td>\n",
       "      <td>virginica</td>\n",
       "    </tr>\n",
       "    <tr>\n",
       "      <th>147</th>\n",
       "      <td>6.5</td>\n",
       "      <td>3.0</td>\n",
       "      <td>5.2</td>\n",
       "      <td>2.0</td>\n",
       "      <td>virginica</td>\n",
       "    </tr>\n",
       "    <tr>\n",
       "      <th>148</th>\n",
       "      <td>6.2</td>\n",
       "      <td>3.4</td>\n",
       "      <td>5.4</td>\n",
       "      <td>2.3</td>\n",
       "      <td>virginica</td>\n",
       "    </tr>\n",
       "    <tr>\n",
       "      <th>149</th>\n",
       "      <td>5.9</td>\n",
       "      <td>3.0</td>\n",
       "      <td>5.1</td>\n",
       "      <td>1.8</td>\n",
       "      <td>virginica</td>\n",
       "    </tr>\n",
       "  </tbody>\n",
       "</table>\n",
       "<p>150 rows × 5 columns</p>\n",
       "</div>"
      ],
      "text/plain": [
       "     sepal_length  sepal_width  petal_length  petal_width    species\n",
       "0             5.1          3.5           1.4          0.2     setosa\n",
       "1             4.9          3.0           1.4          0.2     setosa\n",
       "2             4.7          3.2           1.3          0.2     setosa\n",
       "3             4.6          3.1           1.5          0.2     setosa\n",
       "4             5.0          3.6           1.4          0.2     setosa\n",
       "..            ...          ...           ...          ...        ...\n",
       "145           6.7          3.0           5.2          2.3  virginica\n",
       "146           6.3          2.5           5.0          1.9  virginica\n",
       "147           6.5          3.0           5.2          2.0  virginica\n",
       "148           6.2          3.4           5.4          2.3  virginica\n",
       "149           5.9          3.0           5.1          1.8  virginica\n",
       "\n",
       "[150 rows x 5 columns]"
      ]
     },
     "execution_count": 50,
     "metadata": {},
     "output_type": "execute_result"
    }
   ],
   "source": [
    "iris_data"
   ]
  },
  {
   "cell_type": "code",
   "execution_count": 51,
   "id": "4b6e483b-cb20-4dec-804c-b94e758383dc",
   "metadata": {},
   "outputs": [
    {
     "data": {
      "text/plain": [
       "array(['setosa', 'versicolor', 'virginica'], dtype=object)"
      ]
     },
     "execution_count": 51,
     "metadata": {},
     "output_type": "execute_result"
    }
   ],
   "source": [
    "iris_data['species'].unique()"
   ]
  },
  {
   "cell_type": "code",
   "execution_count": null,
   "id": "e1ca67f5-957b-4245-aa74-a9fba536427f",
   "metadata": {},
   "outputs": [],
   "source": []
  },
  {
   "cell_type": "code",
   "execution_count": 52,
   "id": "4277d2ad-361e-486b-b475-8d4e59720f86",
   "metadata": {},
   "outputs": [],
   "source": [
    "Mapping_iris ={\n",
    "    'setosa':0,\n",
    "    'versicolor':1,\n",
    "    'virginica':2,\n",
    "}"
   ]
  },
  {
   "cell_type": "code",
   "execution_count": null,
   "id": "95092159-c5fb-4293-baf9-3a4124ab3baf",
   "metadata": {},
   "outputs": [],
   "source": []
  },
  {
   "cell_type": "code",
   "execution_count": 53,
   "id": "f6efaaf3-046f-4d78-ae6b-7d93160fc285",
   "metadata": {},
   "outputs": [],
   "source": [
    "iris_data['species'] = iris_data['species'].map(Mapping_iris)"
   ]
  },
  {
   "cell_type": "code",
   "execution_count": 54,
   "id": "568c7d2e-059d-46bb-9150-3f010e09fd25",
   "metadata": {},
   "outputs": [
    {
     "data": {
      "text/html": [
       "<div>\n",
       "<style scoped>\n",
       "    .dataframe tbody tr th:only-of-type {\n",
       "        vertical-align: middle;\n",
       "    }\n",
       "\n",
       "    .dataframe tbody tr th {\n",
       "        vertical-align: top;\n",
       "    }\n",
       "\n",
       "    .dataframe thead th {\n",
       "        text-align: right;\n",
       "    }\n",
       "</style>\n",
       "<table border=\"1\" class=\"dataframe\">\n",
       "  <thead>\n",
       "    <tr style=\"text-align: right;\">\n",
       "      <th></th>\n",
       "      <th>sepal_length</th>\n",
       "      <th>sepal_width</th>\n",
       "      <th>petal_length</th>\n",
       "      <th>petal_width</th>\n",
       "      <th>species</th>\n",
       "    </tr>\n",
       "  </thead>\n",
       "  <tbody>\n",
       "    <tr>\n",
       "      <th>0</th>\n",
       "      <td>5.1</td>\n",
       "      <td>3.5</td>\n",
       "      <td>1.4</td>\n",
       "      <td>0.2</td>\n",
       "      <td>0</td>\n",
       "    </tr>\n",
       "    <tr>\n",
       "      <th>1</th>\n",
       "      <td>4.9</td>\n",
       "      <td>3.0</td>\n",
       "      <td>1.4</td>\n",
       "      <td>0.2</td>\n",
       "      <td>0</td>\n",
       "    </tr>\n",
       "    <tr>\n",
       "      <th>2</th>\n",
       "      <td>4.7</td>\n",
       "      <td>3.2</td>\n",
       "      <td>1.3</td>\n",
       "      <td>0.2</td>\n",
       "      <td>0</td>\n",
       "    </tr>\n",
       "    <tr>\n",
       "      <th>3</th>\n",
       "      <td>4.6</td>\n",
       "      <td>3.1</td>\n",
       "      <td>1.5</td>\n",
       "      <td>0.2</td>\n",
       "      <td>0</td>\n",
       "    </tr>\n",
       "    <tr>\n",
       "      <th>4</th>\n",
       "      <td>5.0</td>\n",
       "      <td>3.6</td>\n",
       "      <td>1.4</td>\n",
       "      <td>0.2</td>\n",
       "      <td>0</td>\n",
       "    </tr>\n",
       "    <tr>\n",
       "      <th>...</th>\n",
       "      <td>...</td>\n",
       "      <td>...</td>\n",
       "      <td>...</td>\n",
       "      <td>...</td>\n",
       "      <td>...</td>\n",
       "    </tr>\n",
       "    <tr>\n",
       "      <th>145</th>\n",
       "      <td>6.7</td>\n",
       "      <td>3.0</td>\n",
       "      <td>5.2</td>\n",
       "      <td>2.3</td>\n",
       "      <td>2</td>\n",
       "    </tr>\n",
       "    <tr>\n",
       "      <th>146</th>\n",
       "      <td>6.3</td>\n",
       "      <td>2.5</td>\n",
       "      <td>5.0</td>\n",
       "      <td>1.9</td>\n",
       "      <td>2</td>\n",
       "    </tr>\n",
       "    <tr>\n",
       "      <th>147</th>\n",
       "      <td>6.5</td>\n",
       "      <td>3.0</td>\n",
       "      <td>5.2</td>\n",
       "      <td>2.0</td>\n",
       "      <td>2</td>\n",
       "    </tr>\n",
       "    <tr>\n",
       "      <th>148</th>\n",
       "      <td>6.2</td>\n",
       "      <td>3.4</td>\n",
       "      <td>5.4</td>\n",
       "      <td>2.3</td>\n",
       "      <td>2</td>\n",
       "    </tr>\n",
       "    <tr>\n",
       "      <th>149</th>\n",
       "      <td>5.9</td>\n",
       "      <td>3.0</td>\n",
       "      <td>5.1</td>\n",
       "      <td>1.8</td>\n",
       "      <td>2</td>\n",
       "    </tr>\n",
       "  </tbody>\n",
       "</table>\n",
       "<p>150 rows × 5 columns</p>\n",
       "</div>"
      ],
      "text/plain": [
       "     sepal_length  sepal_width  petal_length  petal_width  species\n",
       "0             5.1          3.5           1.4          0.2        0\n",
       "1             4.9          3.0           1.4          0.2        0\n",
       "2             4.7          3.2           1.3          0.2        0\n",
       "3             4.6          3.1           1.5          0.2        0\n",
       "4             5.0          3.6           1.4          0.2        0\n",
       "..            ...          ...           ...          ...      ...\n",
       "145           6.7          3.0           5.2          2.3        2\n",
       "146           6.3          2.5           5.0          1.9        2\n",
       "147           6.5          3.0           5.2          2.0        2\n",
       "148           6.2          3.4           5.4          2.3        2\n",
       "149           5.9          3.0           5.1          1.8        2\n",
       "\n",
       "[150 rows x 5 columns]"
      ]
     },
     "execution_count": 54,
     "metadata": {},
     "output_type": "execute_result"
    }
   ],
   "source": [
    "iris_data"
   ]
  },
  {
   "cell_type": "code",
   "execution_count": 55,
   "id": "a6f65f0a-5f4a-4b0d-b11a-6b987e6a4660",
   "metadata": {},
   "outputs": [
    {
     "data": {
      "text/plain": [
       "array([0, 1, 2], dtype=int64)"
      ]
     },
     "execution_count": 55,
     "metadata": {},
     "output_type": "execute_result"
    }
   ],
   "source": [
    "iris_data['species'].unique()"
   ]
  },
  {
   "cell_type": "code",
   "execution_count": null,
   "id": "0cf4424c-551d-4667-b8dd-e555017ad0fd",
   "metadata": {},
   "outputs": [],
   "source": []
  }
 ],
 "metadata": {
  "kernelspec": {
   "display_name": "Python 3 (ipykernel)",
   "language": "python",
   "name": "python3"
  },
  "language_info": {
   "codemirror_mode": {
    "name": "ipython",
    "version": 3
   },
   "file_extension": ".py",
   "mimetype": "text/x-python",
   "name": "python",
   "nbconvert_exporter": "python",
   "pygments_lexer": "ipython3",
   "version": "3.10.16"
  }
 },
 "nbformat": 4,
 "nbformat_minor": 5
}
